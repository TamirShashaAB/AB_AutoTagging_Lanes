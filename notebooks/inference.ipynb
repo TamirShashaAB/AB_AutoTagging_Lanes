{
 "cells": [
  {
   "cell_type": "code",
   "execution_count": null,
   "metadata": {},
   "outputs": [],
   "source": [
    "%load_ext autoreload\n",
    "%autoreload 2\n",
    "\n",
    "import os\n",
    "from pathlib import Path\n",
    "import sys\n",
    "\n",
    "os.chdir(Path(os.getcwd()).parent)\n",
    "os.getcwd()"
   ]
  },
  {
   "cell_type": "code",
   "execution_count": null,
   "metadata": {},
   "outputs": [],
   "source": [
    "import pandas as pd\n",
    "from ab_autotagging_lanes.infer import run_ld_model_and_apply_filter_on_detections\n",
    "\n",
    "input_dirs = ['/home/tamir/datasets/small_3']\n",
    "output_dir = str(Path(os.getcwd()).joinpath('tmp/output'))\n",
    "PREDICTION_PATH = '/home/tamir/workspace/AB_AutoTagging_Lanes/tmp/b2b_pred_with_rbs.tsv'\n",
    "\n",
    "results = run_ld_model_and_apply_filter_on_detections(detections_df=pd.read_csv(PREDICTION_PATH, sep='\\t'),\n",
    "                                       images_path=input_dirs,\n",
    "                                       plot=True,\n",
    "                                       delete_output_dir=True)"
   ]
  }
 ],
 "metadata": {
  "kernelspec": {
   "display_name": ".venv",
   "language": "python",
   "name": "python3"
  },
  "language_info": {
   "codemirror_mode": {
    "name": "ipython",
    "version": 3
   },
   "file_extension": ".py",
   "mimetype": "text/x-python",
   "name": "python",
   "nbconvert_exporter": "python",
   "pygments_lexer": "ipython3",
   "version": "3.8.10"
  }
 },
 "nbformat": 4,
 "nbformat_minor": 2
}
