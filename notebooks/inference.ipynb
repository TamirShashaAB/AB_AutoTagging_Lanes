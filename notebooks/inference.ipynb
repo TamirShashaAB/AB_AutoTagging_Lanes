{
 "cells": [
  {
   "cell_type": "code",
   "execution_count": 1,
   "metadata": {},
   "outputs": [
    {
     "data": {
      "text/plain": [
       "'/home/tamir/workspace/AB_AutoTagging_Lanes'"
      ]
     },
     "execution_count": 1,
     "metadata": {},
     "output_type": "execute_result"
    }
   ],
   "source": [
    "%load_ext autoreload\n",
    "%autoreload 2\n",
    "\n",
    "import os\n",
    "from pathlib import Path\n",
    "import sys\n",
    "\n",
    "os.chdir(Path(os.getcwd()).parent)\n",
    "os.getcwd()"
   ]
  },
  {
   "cell_type": "code",
   "execution_count": 2,
   "metadata": {},
   "outputs": [
    {
     "name": "stdout",
     "output_type": "stream",
     "text": [
      "Inference on directory: /home/tamir/datasets/small_3\n",
      "Input size : 1344, 352\n",
      "\n",
      "<All keys matched successfully>\n"
     ]
    },
    {
     "name": "stderr",
     "output_type": "stream",
     "text": [
      "/home/tamir/workspace/AB_AutoTagging_Lanes/.venv/lib/python3.8/site-packages/torch/functional.py:504: UserWarning: torch.meshgrid: in an upcoming release, it will be required to pass the indexing argument. (Triggered internally at ../aten/src/ATen/native/TensorShape.cpp:3483.)\n",
      "  return _VF.meshgrid(tensors, **kwargs)  # type: ignore[attr-defined]\n"
     ]
    },
    {
     "name": "stdout",
     "output_type": "stream",
     "text": [
      "Model Summary: 578 layers, 4.91947e+06 parameters, 4.91947e+06 gradients, 47.0 GFLOPS\n",
      " Extracted 3 images for inference!\n",
      "Transforming entire dataset to the model's target format...\n",
      "Done.\n"
     ]
    },
    {
     "name": "stderr",
     "output_type": "stream",
     "text": [
      "0it [00:00, ?it/s]ERROR:tornado.general:SEND Error: Host unreachable\n"
     ]
    }
   ],
   "source": [
    "import pandas as pd\n",
    "from ab_autotagging_lanes.infer import run_ld_model_and_apply_filter_on_detections\n",
    "\n",
    "input_dirs = ['/home/tamir/datasets/small_3']\n",
    "output_dir = str(Path(os.getcwd()).joinpath('tmp/output'))\n",
    "PREDICTION_PATH = '/home/tamir/workspace/AB_AutoTagging_Lanes/tmp/b2b_pred_with_rbs.tsv'\n",
    "\n",
    "results = run_ld_model_and_apply_filter_on_detections(detections_df=pd.read_csv(PREDICTION_PATH, sep='\\t'),\n",
    "                                       images_path=input_dirs,\n",
    "                                       plot=True,\n",
    "                                       delete_output_dir=True)"
   ]
  }
 ],
 "metadata": {
  "kernelspec": {
   "display_name": ".venv",
   "language": "python",
   "name": "python3"
  },
  "language_info": {
   "codemirror_mode": {
    "name": "ipython",
    "version": 3
   },
   "file_extension": ".py",
   "mimetype": "text/x-python",
   "name": "python",
   "nbconvert_exporter": "python",
   "pygments_lexer": "ipython3",
   "version": "3.8.10"
  }
 },
 "nbformat": 4,
 "nbformat_minor": 2
}
